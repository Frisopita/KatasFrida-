{
 "cells": [
  {
   "cell_type": "markdown",
   "metadata": {},
   "source": [
    "## KATA 5 - Frida Sofía Andrade Sierra"
   ]
  },
  {
   "cell_type": "code",
   "execution_count": 2,
   "metadata": {},
   "outputs": [
    {
     "name": "stdout",
     "output_type": "stream",
     "text": [
      "628949330\n",
      "390577533.93\n"
     ]
    }
   ],
   "source": [
    "# Crear variables para almacenar las dos distancias\n",
    "# ¡Asegúrate de quitar las comas!\n",
    "tierra = 149597870\n",
    "jupiter = 778547200\n",
    "\n",
    "dis1 = jupiter - tierra\n",
    "print (dis1)\n",
    "\n",
    "dis2 = dis1 * 0.621\n",
    "print(dis2)"
   ]
  },
  {
   "cell_type": "code",
   "execution_count": 3,
   "metadata": {},
   "outputs": [
    {
     "name": "stdout",
     "output_type": "stream",
     "text": [
      "-10190\n",
      "6327.99\n"
     ]
    }
   ],
   "source": [
    "dis_tierra = input('Ingresa la distancia de la Tierra')\n",
    "dis_jupiter = input('Ingresa la distancia de Júpiter')\n",
    "\n",
    "dis_tierra = int(dis_tierra)\n",
    "dis_jupiter = int(dis_jupiter)\n",
    "\n",
    "diskm = dis_jupiter - dis_tierra\n",
    "print(diskm)\n",
    "\n",
    "dismi = diskm * 0.621\n",
    "print(abs(dismi))"
   ]
  }
 ],
 "metadata": {
  "interpreter": {
   "hash": "f40763f42e692670571f637929e93a20b9ada6df2391e1d476f4bb6931565be0"
  },
  "kernelspec": {
   "display_name": "Python 3.9.10 64-bit (windows store)",
   "language": "python",
   "name": "python3"
  },
  "language_info": {
   "codemirror_mode": {
    "name": "ipython",
    "version": 3
   },
   "file_extension": ".py",
   "mimetype": "text/x-python",
   "name": "python",
   "nbconvert_exporter": "python",
   "pygments_lexer": "ipython3",
   "version": "3.9.10"
  },
  "orig_nbformat": 4
 },
 "nbformat": 4,
 "nbformat_minor": 2
}
