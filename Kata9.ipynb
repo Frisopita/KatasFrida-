{
 "cells": [
  {
   "cell_type": "markdown",
   "metadata": {},
   "source": [
    "## KATA 9 - Frida Sofía Andrade Sierra"
   ]
  },
  {
   "cell_type": "markdown",
   "metadata": {},
   "source": [
    "## Ejercicio 1"
   ]
  },
  {
   "cell_type": "code",
   "execution_count": 3,
   "metadata": {},
   "outputs": [],
   "source": [
    "# Función para leer 3 tanques de combustible y muestre el promedio\n",
    "\n",
    "def reporte(tanque1, tanque2, tanque3):\n",
    "    prom = (tanque1 + tanque2 + tanque3) / 3\n",
    "    return f\"\"\"Reporte:\n",
    "    ***************************\n",
    "    Promedio tanques: {prom}%\n",
    "    Tanque 1: {tanque1 }%\n",
    "    Tanque 2: {tanque2 }%\n",
    "    Tanque 3: {tanque3 }% \n",
    "    ****************************\n",
    "    \"\"\""
   ]
  },
  {
   "cell_type": "code",
   "execution_count": 4,
   "metadata": {},
   "outputs": [
    {
     "name": "stdout",
     "output_type": "stream",
     "text": [
      "Reporte:\n",
      "    ***************************\n",
      "    Promedio: 2.0%\n",
      "    Tanque 1: 1%\n",
      "    Tanque 2: 2%\n",
      "    Tanque 3: 3% \n",
      "    ****************************\n",
      "    \n"
     ]
    }
   ],
   "source": [
    "# Llamamos a la función que genera el reporte print(funcion(tanque1, tanque2, tanque3))\n",
    "print(reporte(1, 2, 3))"
   ]
  },
  {
   "cell_type": "code",
   "execution_count": 6,
   "metadata": {},
   "outputs": [
    {
     "data": {
      "text/plain": [
       "18.666666666666668"
      ]
     },
     "execution_count": 6,
     "metadata": {},
     "output_type": "execute_result"
    }
   ],
   "source": [
    "# Función promedio \n",
    "def average(values):\n",
    "    total = sum(values)\n",
    "    number_of_items = len(values)\n",
    "    return total / number_of_items\n",
    "# Test the averaging function with a list of integers:\n",
    "average([10, 15, 31]) "
   ]
  },
  {
   "cell_type": "code",
   "execution_count": 7,
   "metadata": {},
   "outputs": [
    {
     "name": "stdout",
     "output_type": "stream",
     "text": [
      "Reporte:\n",
      "    ***************************\n",
      "    Promedio tanques: 2.0%\n",
      "    Tanque 1: 1%\n",
      "    Tanque 2: 2%\n",
      "    Tanque 3: 3% \n",
      "    ****************************\n",
      "    \n"
     ]
    }
   ],
   "source": [
    "# Actualiza la función\n",
    "def reporte(tanque1, tanque2, tanque3):\n",
    "    return f\"\"\"Reporte:\n",
    "    ***************************\n",
    "    Promedio tanques: {average([tanque1, tanque2, tanque3])}%\n",
    "    Tanque 1: {tanque1 }%\n",
    "    Tanque 2: {tanque2 }%\n",
    "    Tanque 3: {tanque3 }% \n",
    "    ****************************\n",
    "    \"\"\"\n",
    "# Call the updated function again with different values\n",
    "print(reporte(1, 2, 3))"
   ]
  },
  {
   "cell_type": "markdown",
   "metadata": {},
   "source": [
    "## Ejercicio 2"
   ]
  },
  {
   "cell_type": "code",
   "execution_count": 8,
   "metadata": {},
   "outputs": [
    {
     "name": "stdout",
     "output_type": "stream",
     "text": [
      "\n",
      "    *********************************************************\n",
      "    Misión a Marte\n",
      "    Tiempo total de viaje: 129 minutos\n",
      "    Combustible total gastado: 2000000 galones\n",
      "    *********************************************************\n",
      "    \n"
     ]
    }
   ],
   "source": [
    "# Función con un informe preciso de la misión. Considera hora de prelanzamiento, tiempo de vuelo, destino, tanque externo y tanque interno\n",
    "\n",
    "def reporte1(pre_launch_time, flight_time, destination, external_tank, main_tank):\n",
    "    return f\"\"\"\n",
    "    *********************************************************\n",
    "    Misión a {destination}\n",
    "    Tiempo total de viaje: {pre_launch_time + flight_time} minutos\n",
    "    Combustible total gastado: {external_tank + main_tank} galones\n",
    "    *********************************************************\n",
    "    \"\"\"\n",
    "\n",
    "print(reporte1(90, 39, \"Marte\", 1000000, 1000000))"
   ]
  },
  {
   "cell_type": "code",
   "execution_count": 10,
   "metadata": {},
   "outputs": [
    {
     "name": "stdout",
     "output_type": "stream",
     "text": [
      "\n",
      "    *********************************************************\n",
      "    Mission to Tierra\n",
      "    Total travel time: 229 minutes\n",
      "    Total fuel left: 1046000\n",
      "    *********************************************************\n",
      "    \n"
     ]
    }
   ],
   "source": [
    "# Escribe tu nueva función de reporte considerando lo anterior\n",
    "\n",
    "def reporte2(destination, *minutes, **fuel_reservoirs):\n",
    "    return f\"\"\"\n",
    "    *********************************************************\n",
    "    Mission to {destination}\n",
    "    Total travel time: {sum(minutes)} minutes\n",
    "    Total fuel left: {sum(fuel_reservoirs.values())}\n",
    "    *********************************************************\n",
    "    \"\"\"\n",
    "\n",
    "print(reporte2(\"Tierra\", 99, 29, 101, main=990000, external=56000))"
   ]
  },
  {
   "cell_type": "code",
   "execution_count": 11,
   "metadata": {},
   "outputs": [
    {
     "name": "stdout",
     "output_type": "stream",
     "text": [
      "\n",
      "    *********************************************************\n",
      "    Mission to Moon\n",
      "    Total travel time: 74 minutes\n",
      "    Total fuel left: 500000\n",
      "    *********************************************************\n",
      "    main tank --> 300000 gallons left\n",
      "external tank --> 200000 gallons left\n",
      "\n"
     ]
    }
   ],
   "source": [
    "# Escribe tu nueva función\n",
    "\n",
    "def mission_report(destination, *minutes, **fuel_reservoirs):\n",
    "    main_report = f\"\"\"\n",
    "    *********************************************************\n",
    "    Mission to {destination}\n",
    "    Total travel time: {sum(minutes)} minutes\n",
    "    Total fuel left: {sum(fuel_reservoirs.values())}\n",
    "    *********************************************************\n",
    "    \"\"\"\n",
    "    for tank_name, gallons in fuel_reservoirs.items():\n",
    "        main_report += f\"{tank_name} tank --> {gallons} gallons left\\n\"\n",
    "    return main_report\n",
    "\n",
    "print(mission_report(\"Moon\", 8, 11, 55, main=300000, external=200000))"
   ]
  }
 ],
 "metadata": {
  "interpreter": {
   "hash": "f40763f42e692670571f637929e93a20b9ada6df2391e1d476f4bb6931565be0"
  },
  "kernelspec": {
   "display_name": "Python 3.9.10 64-bit (windows store)",
   "language": "python",
   "name": "python3"
  },
  "language_info": {
   "codemirror_mode": {
    "name": "ipython",
    "version": 3
   },
   "file_extension": ".py",
   "mimetype": "text/x-python",
   "name": "python",
   "nbconvert_exporter": "python",
   "pygments_lexer": "ipython3",
   "version": "3.9.10"
  },
  "orig_nbformat": 4
 },
 "nbformat": 4,
 "nbformat_minor": 2
}
