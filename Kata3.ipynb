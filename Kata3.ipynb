{
 "cells": [
  {
   "cell_type": "markdown",
   "metadata": {},
   "source": [
    "## KATA 3 - Frida Sofía Andrade Sierra"
   ]
  },
  {
   "cell_type": "markdown",
   "metadata": {},
   "source": [
    "## Ejercicio 1\n",
    "Para este ejercico se escribirá un código de lógica condicional que imprima una advertencia si un asteroide se acerca a la tiera a cualquier velocidad arriba de los 25 km"
   ]
  },
  {
   "cell_type": "code",
   "execution_count": 9,
   "metadata": {},
   "outputs": [
    {
     "name": "stdout",
     "output_type": "stream",
     "text": [
      "Se acerca un asteroire a 49 km/s ¡Cuidado, va demasiado rápido!\n"
     ]
    }
   ],
   "source": [
    "velA = 49\n",
    "if velA >= 25:\n",
    "    print (\"Se acerca un asteroire a\", velA,\"km/s ¡Cuidado, va demasiado rápido!\")\n",
    "    "
   ]
  },
  {
   "cell_type": "markdown",
   "metadata": {},
   "source": [
    "## Ejercicio 2\n",
    "Si un asteroide entra a al atmosfera a una velocidad igual o mayor de 20 km/s"
   ]
  },
  {
   "cell_type": "code",
   "execution_count": 11,
   "metadata": {},
   "outputs": [
    {
     "name": "stdout",
     "output_type": "stream",
     "text": [
      "Entro un asteroide a la tierra a 20 km/s\n"
     ]
    }
   ],
   "source": [
    "velA = 20\n",
    "if velA < 20:\n",
    "    print(\"Entro un asteroide a la tierra a menos de 20 km/s\")\n",
    "elif velA == 20:\n",
    "    print(\"Entro un asteroide a la tierra a 20 km/s\")\n",
    "else:\n",
    "    print(\"Entro un asteroide a mas de 20 km/s, voltea al cielo, tal vez puedas verlo\")\n"
   ]
  }
 ],
 "metadata": {
  "interpreter": {
   "hash": "f40763f42e692670571f637929e93a20b9ada6df2391e1d476f4bb6931565be0"
  },
  "kernelspec": {
   "display_name": "Python 3.9.10 64-bit (windows store)",
   "language": "python",
   "name": "python3"
  },
  "language_info": {
   "codemirror_mode": {
    "name": "ipython",
    "version": 3
   },
   "file_extension": ".py",
   "mimetype": "text/x-python",
   "name": "python",
   "nbconvert_exporter": "python",
   "pygments_lexer": "ipython3",
   "version": "3.9.10"
  },
  "orig_nbformat": 4
 },
 "nbformat": 4,
 "nbformat_minor": 2
}
